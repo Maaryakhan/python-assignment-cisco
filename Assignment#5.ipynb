{
 "cells": [
  {
   "cell_type": "code",
   "execution_count": 6,
   "metadata": {},
   "outputs": [
    {
     "name": "stdout",
     "output_type": "stream",
     "text": [
      "Enter any number:4\n",
      "The factorial of 4 is 24\n"
     ]
    }
   ],
   "source": [
    "num=int(input(\"Enter any number:\"))\n",
    "factorial = 1\n",
    "if num < 0:\n",
    "   print(\"Factorial does'nt exist for negative numbers\")\n",
    "elif num == 0:\n",
    "   print(\"The factorial of 0 is 1\")\n",
    "else:\n",
    "   for i in range(1,num + 1):\n",
    "       factorial = factorial*i\n",
    "   print(\"The factorial of\",num,\"is\",factorial)"
   ]
  },
  {
   "cell_type": "code",
   "execution_count": 13,
   "metadata": {},
   "outputs": [
    {
     "name": "stdout",
     "output_type": "stream",
     "text": [
      "Enter a sentence:My name is Maarya Khan\n",
      "No. of Upper case characters :  3\n",
      "No. of Lower case Characters :  15\n"
     ]
    }
   ],
   "source": [
    "def string(sentence):\n",
    "    upper=0\n",
    "    lower=0\n",
    "    for count in sentence:\n",
    "        if count.isupper():\n",
    "           upper+=1\n",
    "        elif count.islower():\n",
    "           lower+=1 \n",
    "    print (\"No. of Upper case characters : \", upper)\n",
    "    print (\"No. of Lower case Characters : \", lower)\n",
    "\n",
    "string(input(\"Enter a sentence:\"))"
   ]
  },
  {
   "cell_type": "code",
   "execution_count": 14,
   "metadata": {},
   "outputs": [
    {
     "name": "stdout",
     "output_type": "stream",
     "text": [
      "2\n",
      "4\n",
      "6\n",
      "8\n"
     ]
    }
   ],
   "source": [
    "list=[1,2,3,4,5,6,7,8]\n",
    "for number in list:\n",
    "    if number%2==0:\n",
    "        print(number)"
   ]
  },
  {
   "cell_type": "code",
   "execution_count": 26,
   "metadata": {},
   "outputs": [
    {
     "name": "stdout",
     "output_type": "stream",
     "text": [
      "Enter a string:maham\n",
      "It is a palindrome\n"
     ]
    }
   ],
   "source": [
    "string=input(\"Enter a string:\")\n",
    "temp = \"\" \n",
    "for i in string: \n",
    "    temp = i + temp \n",
    "if (string==temp): \n",
    "    print(\"It is a palindrome\") \n",
    "else:\n",
    "    print(\"It is not a palindrome\")"
   ]
  },
  {
   "cell_type": "code",
   "execution_count": 50,
   "metadata": {},
   "outputs": [
    {
     "name": "stdout",
     "output_type": "stream",
     "text": [
      "Enter any number:13\n",
      "13 is a prime number\n"
     ]
    }
   ],
   "source": [
    "num=int(input(\"Enter any number:\"))\n",
    "if num > 1:\n",
    "    for i in range(2, num):  \n",
    "        if (num % i) == 0:\n",
    "            print(num,\"is NOT a prime number\") \n",
    "            break\n",
    "    else: \n",
    "            print(num,\"is a prime number\") \n",
    "else: \n",
    "    print(\"It is not a prime number\") "
   ]
  },
  {
   "cell_type": "code",
   "execution_count": 2,
   "metadata": {},
   "outputs": [
    {
     "name": "stdout",
     "output_type": "stream",
     "text": [
      "Items in your cart are:\n",
      "Soap\n",
      "Toothbrush\n",
      "Toothpaste\n",
      "Shampoo\n"
     ]
    }
   ],
   "source": [
    "def items(*items): \n",
    "    for item in items:\n",
    "        print(item)\n",
    "print(\"Items in your cart are:\")\n",
    "items(\"Soap\",\"Toothbrush\",\"Toothpaste\",\"Shampoo\")"
   ]
  }
 ],
 "metadata": {
  "kernelspec": {
   "display_name": "Python 3",
   "language": "python",
   "name": "python3"
  },
  "language_info": {
   "codemirror_mode": {
    "name": "ipython",
    "version": 3
   },
   "file_extension": ".py",
   "mimetype": "text/x-python",
   "name": "python",
   "nbconvert_exporter": "python",
   "pygments_lexer": "ipython3",
   "version": "3.7.3"
  }
 },
 "nbformat": 4,
 "nbformat_minor": 2
}
