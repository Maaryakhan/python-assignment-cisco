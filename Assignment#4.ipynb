{
 "cells": [
  {
   "cell_type": "markdown",
   "metadata": {},
   "source": [
    "# Q1"
   ]
  },
  {
   "cell_type": "code",
   "execution_count": 23,
   "metadata": {},
   "outputs": [
    {
     "name": "stdout",
     "output_type": "stream",
     "text": [
      "maarya\n",
      "khan\n",
      "19\n",
      "karachi\n"
     ]
    },
    {
     "data": {
      "text/plain": [
       "{'first_name': 'maarya',\n",
       " 'last_name': 'khan',\n",
       " 'age': 19,\n",
       " 'city': 'karachi',\n",
       " 'qualification': 'matric'}"
      ]
     },
     "execution_count": 23,
     "metadata": {},
     "output_type": "execute_result"
    }
   ],
   "source": [
    "dict={\"first_name\":\"maarya\",\"last_name\":\"khan\",\"age\":19,\"city\":\"karachi\"}\n",
    "for key in dict:\n",
    "    print(dict[key])#displaying dictionary\n",
    "dict[\"qualification\"]=\"matric\"#adding a new key-value pair\n",
    "dict"
   ]
  },
  {
   "cell_type": "code",
   "execution_count": 22,
   "metadata": {},
   "outputs": [
    {
     "data": {
      "text/plain": [
       "{'first_name': 'maarya',\n",
       " 'last_name': 'khan',\n",
       " 'age': 19,\n",
       " 'city': 'karachi',\n",
       " 'qualification': 'inter'}"
      ]
     },
     "execution_count": 22,
     "metadata": {},
     "output_type": "execute_result"
    }
   ],
   "source": [
    "dict[\"qualification\"]=\"inter\"#updating qualification\n",
    "dict"
   ]
  },
  {
   "cell_type": "code",
   "execution_count": 21,
   "metadata": {},
   "outputs": [
    {
     "data": {
      "text/plain": [
       "{'first_name': 'maarya', 'last_name': 'khan', 'age': 19, 'city': 'karachi'}"
      ]
     },
     "execution_count": 21,
     "metadata": {},
     "output_type": "execute_result"
    }
   ],
   "source": [
    "del dict[\"qualification\"]#deleting qualification\n",
    "dict"
   ]
  },
  {
   "cell_type": "markdown",
   "metadata": {},
   "source": [
    "# Q2"
   ]
  },
  {
   "cell_type": "code",
   "execution_count": 14,
   "metadata": {},
   "outputs": [
    {
     "name": "stdout",
     "output_type": "stream",
     "text": [
      "Karachi {'country': 'Pakistan', 'population': '14.9 million', 'fact': 'Cheapest city to live in'}\n",
      "Mumbai {'country': 'India', 'population': '18.4 million', 'fact': 'Largest city of India'}\n",
      "Toronto {'country': 'Canada', 'population': '5.4 million', 'fact': 'Third-largest movie production hub in North America'}\n"
     ]
    }
   ],
   "source": [
    "cities={\"Karachi\":{\"country\":\"Pakistan\",\"population\":\"14.9 million\",\"fact\":\"Cheapest city to live in\"},\"Mumbai\":{\"country\":\"India\",\"population\":\"18.4 million\",\"fact\":\"Largest city of India\"},\"Toronto\":{\"country\":\"Canada\",\"population\":\"5.4 million\",\"fact\":\"Third-largest movie production hub in North America\"}}\n",
    "for city,city_information in cities.items():\n",
    "    print(city,city_information)"
   ]
  },
  {
   "cell_type": "markdown",
   "metadata": {},
   "source": [
    "# Q3"
   ]
  },
  {
   "cell_type": "code",
   "execution_count": 4,
   "metadata": {},
   "outputs": [
    {
     "name": "stdout",
     "output_type": "stream",
     "text": [
      "Press 0 for quitting\n",
      "Enter your age:3\n",
      "Your ticket cost is $10\n",
      "Enter your age:2\n",
      "Your ticket is free!Enjoy the Movie\n",
      "Enter your age:35\n",
      "Your ticket cost is $15\n",
      "Enter your age:0\n"
     ]
    }
   ],
   "source": [
    "print(\"Press 0 for quitting\")\n",
    "while True: \n",
    "    viewer_age=int(input(\"Enter your age:\"))\n",
    "    if viewer_age==0:\n",
    "        break\n",
    "    if viewer_age<3:\n",
    "        print(\"Your ticket is free!Enjoy the Movie\")\n",
    "    elif viewer_age>=3 and viewer_age<=12:\n",
    "        print(\"Your ticket cost is $10\")\n",
    "    else:\n",
    "        print(\"Your ticket cost is $15\")"
   ]
  },
  {
   "cell_type": "markdown",
   "metadata": {},
   "source": [
    "# Q4"
   ]
  },
  {
   "cell_type": "code",
   "execution_count": 7,
   "metadata": {},
   "outputs": [
    {
     "name": "stdout",
     "output_type": "stream",
     "text": [
      "Enter your favourite book:Cinderella\n",
      "One of my favourite books is Cinderella\n"
     ]
    }
   ],
   "source": [
    "def favourite_book(title):\n",
    "    print(\"One of my favourite books is \" + title)\n",
    "favourite_book(input(\"Enter your favourite book:\"))"
   ]
  },
  {
   "cell_type": "markdown",
   "metadata": {},
   "source": [
    "# Q5"
   ]
  },
  {
   "cell_type": "code",
   "execution_count": 13,
   "metadata": {},
   "outputs": [
    {
     "name": "stdout",
     "output_type": "stream",
     "text": [
      "Guess the number between 1 to 30:7\n",
      "Hint:The number is smaller than your guess\n",
      "Guess the number between 1 to 30:3\n",
      "Congratulations,You have given the right answer!!\n"
     ]
    }
   ],
   "source": [
    "import random\n",
    "random_number=random.randint(1, 30)\n",
    "count=1\n",
    "while count<4:\n",
    "    guess=int(input(\"Guess the number between 1 to 30:\"))\n",
    "    if random_number>guess:\n",
    "        print(\"Hint:The number is greater than your guess\")\n",
    "    elif random_number<guess:\n",
    "        print(\"Hint:The number is smaller than your guess\")\n",
    "    elif random_number==guess:\n",
    "        break\n",
    "    count=count+1\n",
    "if random_number==guess:\n",
    "    print(\"Congratulations,You have given the right answer!!\")\n",
    "else:\n",
    "    print(\"No,The right answer is:\" + str(random_number))"
   ]
  }
 ],
 "metadata": {
  "kernelspec": {
   "display_name": "Python 3",
   "language": "python",
   "name": "python3"
  },
  "language_info": {
   "codemirror_mode": {
    "name": "ipython",
    "version": 3
   },
   "file_extension": ".py",
   "mimetype": "text/x-python",
   "name": "python",
   "nbconvert_exporter": "python",
   "pygments_lexer": "ipython3",
   "version": "3.7.3"
  }
 },
 "nbformat": 4,
 "nbformat_minor": 2
}
