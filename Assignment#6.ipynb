{
 "cells": [
  {
   "cell_type": "markdown",
   "metadata": {},
   "source": [
    "# Q1"
   ]
  },
  {
   "cell_type": "raw",
   "metadata": {},
   "source": [
    "Object-oriented programming (OOP) is a programming language model in which programs are organized around data, or objects, rather than functions and logic."
   ]
  },
  {
   "cell_type": "markdown",
   "metadata": {},
   "source": [
    "# Q2"
   ]
  },
  {
   "cell_type": "raw",
   "metadata": {},
   "source": [
    "•\tIt makes software easier to maintain. Since the design is modular, part of the system can be updated in case of issues without a need to make large-scale changes\n",
    "•\tIt provides a good framework for code libraries where the supplied software components can be easily adapted and modified by the programmer. This is particularly useful for developing graphical user interfaces.\n",
    "•\tBetter Productivity as OOP techniques enforce rules on a programmer that, in the long run, help her get more work done; finished programs work better, have more features and are easier to read and maintain. OOP programmers take new and existing software objects and \"stitch\" them together to make new programs. Because object libraries contain many useful functions, software developers don't have to reinvent the wheel as often; more of their time goes into making the new program.\n",
    "•\tIt provides a clear modular structure for programs which makes it good for defining abstract datatypes in which implementation details are hidden\n",
    "•\tObjects can also be reused within an across applications. The reuse of software also lowers the cost of development. \n",
    "•\tReuse also enables faster development. Object-oriented programming languages come with rich libraries of objects, and code developed during projects is also reusable in future projects."
   ]
  },
  {
   "cell_type": "markdown",
   "metadata": {},
   "source": [
    "# Q3"
   ]
  },
  {
   "cell_type": "raw",
   "metadata": {},
   "source": [
    "Functions are self contained program they have return some values and the functions are defined in structured languages like Pascal, C etc.\n",
    "While methods are those do not have independent existence they are always defined with in class.Methods are called using instance or object.Methods are used to manipulate instance variable of a class."
   ]
  },
  {
   "cell_type": "markdown",
   "metadata": {},
   "source": [
    "# Q4:Object"
   ]
  },
  {
   "cell_type": "raw",
   "metadata": {},
   "source": [
    "An Object represents an entity either physical,conceptual, or software.It has\n",
    "Identity,State and Behavior. "
   ]
  },
  {
   "cell_type": "markdown",
   "metadata": {},
   "source": [
    "# Class"
   ]
  },
  {
   "cell_type": "raw",
   "metadata": {},
   "source": [
    "A Class is a description of a group of objects with attributes, behavior and relationships."
   ]
  },
  {
   "cell_type": "markdown",
   "metadata": {},
   "source": [
    "# Attributes and Behaviours"
   ]
  },
  {
   "cell_type": "raw",
   "metadata": {},
   "source": [
    "Attributes are the characteristics of the class that help to distinguish it from other classes. Behaviors are the tasks that an object performs. "
   ]
  },
  {
   "cell_type": "markdown",
   "metadata": {},
   "source": [
    "# Q5"
   ]
  },
  {
   "cell_type": "code",
   "execution_count": 47,
   "metadata": {},
   "outputs": [
    {
     "name": "stdout",
     "output_type": "stream",
     "text": [
      "Car2:Aqua Blue\n",
      "Your car's speed is accelerated to:\n",
      "10\n",
      "Your car's speed is slowed down to:\n",
      "2\n",
      "Your car's speed is slowed down to:\n",
      "0\n",
      "Car is not moving\n"
     ]
    }
   ],
   "source": [
    "class Car():\n",
    "    def __init__(self,name,color,model,carType,speed):\n",
    "        self.name= name\n",
    "        self.color=color\n",
    "        self.model=model\n",
    "        self.carType=carType\n",
    "        self.speed=speed\n",
    "    def accelerate(self):\n",
    "        self.speed=self.speed+5\n",
    "        print(\"Your car's speed is accelerated to:\")\n",
    "        print(self.speed)\n",
    "    def brake(self):\n",
    "        self.speed=self.speed-2\n",
    "        print(\"Your car's speed is slowed down to:\")\n",
    "        print(self.speed)\n",
    "    def car_moves_or_not(self):\n",
    "        if(self.speed!=0):\n",
    "            print(\"Car is moving\")\n",
    "        else:\n",
    "            print(\"Car is not moving\")\n",
    "c1=Car('Civic','White','2019','Automatic',5)\n",
    "c2=Car('Aqua','Blue','2017','Automatic',4)\n",
    "c3=Car('Terioskit','Grey','2010','Manual',3)\n",
    "c4=Car('Mehran','Red','2012','Manual',2)\n",
    "c5=Car('Alto','Black','2018','Automatic',4)\n",
    "print(\"Car2:\"+c2.name,c2.color)\n",
    "c1.accelerate()\n",
    "c5.brake()\n",
    "c4.brake()\n",
    "c4.car_moves_or_not()"
   ]
  }
 ],
 "metadata": {
  "kernelspec": {
   "display_name": "Python 3",
   "language": "python",
   "name": "python3"
  },
  "language_info": {
   "codemirror_mode": {
    "name": "ipython",
    "version": 3
   },
   "file_extension": ".py",
   "mimetype": "text/x-python",
   "name": "python",
   "nbconvert_exporter": "python",
   "pygments_lexer": "ipython3",
   "version": "3.7.3"
  }
 },
 "nbformat": 4,
 "nbformat_minor": 2
}
