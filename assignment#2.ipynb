{
 "cells": [
  {
   "cell_type": "code",
   "execution_count": 3,
   "metadata": {},
   "outputs": [
    {
     "name": "stdout",
     "output_type": "stream",
     "text": [
      "Enter number of subjects:5\n",
      "\n",
      "\t\tMARKS\n",
      "Marks of subject 1:100\n",
      "Marks of subject 2:45\n",
      "Marks of subject 3:79\n",
      "Marks of subject 4:62\n",
      "Marks of subject 5:89\n",
      "\n",
      "\t\tGRADES\n",
      "Grade of subject 1=A-ONE\n",
      "Grade of subject 2=C\n",
      "Grade of subject 3=A\n",
      "Grade of subject 4=B\n",
      "Grade of subject 5=A-ONE\n"
     ]
    }
   ],
   "source": [
    "marks=[]\n",
    "number=int(input(\"Enter number of subjects:\"))\n",
    "print(\"\\n\\t\\tMARKS\")\n",
    "no=1\n",
    "for number in range(0,number):\n",
    "    i=int(input(f\"Marks of subject {no}:\"))\n",
    "    marks.append(i)\n",
    "    no=no+1\n",
    "print(\"\\n\\t\\tGRADES\")\n",
    "a=0\n",
    "s=1\n",
    "while a<number+1:\n",
    "    if marks[a]>=60 and marks[a]<=70:    \n",
    "        grade=print(f\"Grade of subject {s}=B\")\n",
    "    elif marks[a]>=71 and marks[a]<=80:    \n",
    "        grade=print(f\"Grade of subject {s}=A\")\n",
    "    elif marks[a]>=81 and marks[a]<=100:\n",
    "        grade=print(f\"Grade of subject {s}=A-ONE\")\n",
    "    else:\n",
    "        grade=print(f\"Grade of subject {s}=C\")\n",
    "    a+=1\n",
    "    s+=1"
   ]
  },
  {
   "cell_type": "code",
   "execution_count": 6,
   "metadata": {},
   "outputs": [
    {
     "name": "stdout",
     "output_type": "stream",
     "text": [
      "Enter a number:26285\n",
      "It is an ODD number!\n"
     ]
    }
   ],
   "source": [
    "number=int(input(\"Enter a number:\"))\n",
    "if number%2==0:\n",
    "    print(\"Number is EVEN\")\n",
    "else:\n",
    "    print(\"It is an ODD number!\")"
   ]
  },
  {
   "cell_type": "code",
   "execution_count": 50,
   "metadata": {},
   "outputs": [
    {
     "name": "stdout",
     "output_type": "stream",
     "text": [
      "Length of the list is: 5\n"
     ]
    }
   ],
   "source": [
    "list=[1,2,3,4,5]\n",
    "print(\"Length of the list is:\",len(list))"
   ]
  },
  {
   "cell_type": "code",
   "execution_count": 22,
   "metadata": {},
   "outputs": [
    {
     "name": "stdout",
     "output_type": "stream",
     "text": [
      "10\n"
     ]
    }
   ],
   "source": [
    "list=[1,2,3,4]\n",
    "sum=0\n",
    "for num in list:\n",
    "        sum+=num\n",
    "print(sum)"
   ]
  },
  {
   "cell_type": "code",
   "execution_count": 51,
   "metadata": {},
   "outputs": [
    {
     "name": "stdout",
     "output_type": "stream",
     "text": [
      "Largest number of the list is: 1366\n"
     ]
    }
   ],
   "source": [
    "list=[1,2,4,3,50,1366,200,56,72,150]\n",
    "n=len(list)\n",
    "i=1\n",
    "for i in range(0,n):\n",
    "    if list[0]<list[i]:\n",
    "        list[0]=list[i]\n",
    "    i=i+1\n",
    "print(\"Largest number of the list is:\",list[0])"
   ]
  },
  {
   "cell_type": "code",
   "execution_count": 15,
   "metadata": {},
   "outputs": [
    {
     "name": "stdout",
     "output_type": "stream",
     "text": [
      "1\n",
      "1\n",
      "2\n",
      "3\n"
     ]
    }
   ],
   "source": [
    "a=[1,1,2,3,5,8,13,21,34,55,89]\n",
    "for number in a:\n",
    "    if number < 5:\n",
    "        numbers=print(number)  "
   ]
  },
  {
   "cell_type": "code",
   "execution_count": null,
   "metadata": {},
   "outputs": [],
   "source": []
  },
  {
   "cell_type": "markdown",
   "metadata": {},
   "source": []
  }
 ],
 "metadata": {
  "kernelspec": {
   "display_name": "Python 3",
   "language": "python",
   "name": "python3"
  },
  "language_info": {
   "codemirror_mode": {
    "name": "ipython",
    "version": 3
   },
   "file_extension": ".py",
   "mimetype": "text/x-python",
   "name": "python",
   "nbconvert_exporter": "python",
   "pygments_lexer": "ipython3",
   "version": "3.7.3"
  }
 },
 "nbformat": 4,
 "nbformat_minor": 2
}
